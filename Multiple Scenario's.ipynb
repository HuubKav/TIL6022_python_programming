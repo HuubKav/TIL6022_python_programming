{
 "cells": [
  {
   "cell_type": "code",
   "execution_count": null,
   "id": "ed0027bc",
   "metadata": {},
   "outputs": [
    {
     "name": "stdout",
     "output_type": "stream",
     "text": [
      "Results saved to 'scenario_costs_2024.csv'\n",
      "Scenario             Active days                Energy/day (kWh)    Total dynamic (€)      Total fixed (€)     Total optimized (€) Difference optimized  (fixed) (€) Difference optimized  (dynamic) (€)\n",
      "---------------------------------------------------------------------------------------------------------------------------------------------------------------------\n",
      "Distant commuter     Every day                              29.6              2337.97              3445.08                 2256.47             -1188.62               -81.50\n",
      "City hopper          Every day                               7.4               605.68               861.27                  550.45              -310.82               -55.23\n",
      "Road tripper         Saturday, Sunday                       29.6               665.34               978.93                  610.20              -368.73               -55.14\n",
      "Grocery grabber      Wednesday, Sunday                       7.4               170.55               244.73                  146.81               -97.93               -23.74\n"
     ]
    },
    {
     "data": {
      "text/html": [
       "<div>\n",
       "<style scoped>\n",
       "    .dataframe tbody tr th:only-of-type {\n",
       "        vertical-align: middle;\n",
       "    }\n",
       "\n",
       "    .dataframe tbody tr th {\n",
       "        vertical-align: top;\n",
       "    }\n",
       "\n",
       "    .dataframe thead th {\n",
       "        text-align: right;\n",
       "    }\n",
       "</style>\n",
       "<table border=\"1\" class=\"dataframe\">\n",
       "  <thead>\n",
       "    <tr style=\"text-align: right;\">\n",
       "      <th></th>\n",
       "      <th>datum_nl</th>\n",
       "      <th>datum_utc</th>\n",
       "      <th>prijs_excl_belastingen</th>\n",
       "      <th>hour</th>\n",
       "      <th>weekday</th>\n",
       "      <th>prijs_incl_belastingen</th>\n",
       "    </tr>\n",
       "  </thead>\n",
       "  <tbody>\n",
       "    <tr>\n",
       "      <th>0</th>\n",
       "      <td>2024-01-01 00:00:00</td>\n",
       "      <td>2023-12-31 23:00:00</td>\n",
       "      <td>0.00</td>\n",
       "      <td>0</td>\n",
       "      <td>Monday</td>\n",
       "      <td>0.13</td>\n",
       "    </tr>\n",
       "    <tr>\n",
       "      <th>1</th>\n",
       "      <td>2024-01-01 01:00:00</td>\n",
       "      <td>2024-01-01 00:00:00</td>\n",
       "      <td>0.00</td>\n",
       "      <td>1</td>\n",
       "      <td>Monday</td>\n",
       "      <td>0.13</td>\n",
       "    </tr>\n",
       "    <tr>\n",
       "      <th>2</th>\n",
       "      <td>2024-01-01 02:00:00</td>\n",
       "      <td>2024-01-01 01:00:00</td>\n",
       "      <td>0.00</td>\n",
       "      <td>2</td>\n",
       "      <td>Monday</td>\n",
       "      <td>0.13</td>\n",
       "    </tr>\n",
       "    <tr>\n",
       "      <th>3</th>\n",
       "      <td>2024-01-01 03:00:00</td>\n",
       "      <td>2024-01-01 02:00:00</td>\n",
       "      <td>-0.00</td>\n",
       "      <td>3</td>\n",
       "      <td>Monday</td>\n",
       "      <td>0.13</td>\n",
       "    </tr>\n",
       "    <tr>\n",
       "      <th>4</th>\n",
       "      <td>2024-01-01 04:00:00</td>\n",
       "      <td>2024-01-01 03:00:00</td>\n",
       "      <td>-0.00</td>\n",
       "      <td>4</td>\n",
       "      <td>Monday</td>\n",
       "      <td>0.13</td>\n",
       "    </tr>\n",
       "  </tbody>\n",
       "</table>\n",
       "</div>"
      ],
      "text/plain": [
       "             datum_nl            datum_utc  prijs_excl_belastingen  hour  \\\n",
       "0 2024-01-01 00:00:00  2023-12-31 23:00:00                    0.00     0   \n",
       "1 2024-01-01 01:00:00  2024-01-01 00:00:00                    0.00     1   \n",
       "2 2024-01-01 02:00:00  2024-01-01 01:00:00                    0.00     2   \n",
       "3 2024-01-01 03:00:00  2024-01-01 02:00:00                   -0.00     3   \n",
       "4 2024-01-01 04:00:00  2024-01-01 03:00:00                   -0.00     4   \n",
       "\n",
       "  weekday  prijs_incl_belastingen  \n",
       "0  Monday                    0.13  \n",
       "1  Monday                    0.13  \n",
       "2  Monday                    0.13  \n",
       "3  Monday                    0.13  \n",
       "4  Monday                    0.13  "
      ]
     },
     "execution_count": 11,
     "metadata": {},
     "output_type": "execute_result"
    }
   ],
   "source": [
    "import pandas as pd\n",
    "from gurobipy import *\n",
    "\n",
    "#input parameters\n",
    "FILE_PATH = \"jeroen_punt_nl_dynamische_stroomprijzen_jaar_2024.csv\"\n",
    "FIXED_PRICE = 0.318  # €/kWh (fixed contract incl. taxes)\n",
    "POWER_KW = 7.4       # charging power (1-phase wallbox)\n",
    "CHARGE_START = 18    # start hour (18:00)\n",
    "CHARGE_END = 7       # end hour next morning (07:00)\n",
    "TAX_SURCHARGE = 0.10880\n",
    "BTW = 1.21\n",
    "\n",
    "#data set\n",
    "df = pd.read_csv(FILE_PATH, sep=';', decimal=',')\n",
    "df['datum_nl'] = pd.to_datetime(df['datum_nl'])\n",
    "df['hour'] = df['datum_nl'].dt.hour\n",
    "df['weekday'] = df['datum_nl'].dt.day_name()\n",
    "\n",
    "#include taxes in price\n",
    "df['prijs_incl_belastingen'] = (df['prijs_excl_belastingen'] + TAX_SURCHARGE) * BTW\n",
    "\n",
    "\n",
    "#calculating costs for different scenarios\n",
    "def calculate_scenario(name, active_days, energy_kwh_per_day):\n",
    "    # setting charging window\n",
    "    df_charge = df[(df['hour'] >= CHARGE_START) | (df['hour'] < CHARGE_END)].copy()\n",
    "\n",
    "    # selecting the days\n",
    "    if active_days:\n",
    "        df_charge = df_charge[df_charge['weekday'].isin(active_days)]\n",
    "\n",
    "    # immediate charging (first available hours that day)\n",
    "    def get_first_hours(group):\n",
    "        needed_hours = int(energy_kwh_per_day / POWER_KW)\n",
    "        return group.head(needed_hours)\n",
    "\n",
    "    df_nonopt = (\n",
    "        df_charge.groupby(df_charge['datum_nl'].dt.date, group_keys=False)\n",
    "        .apply(get_first_hours)\n",
    "    )\n",
    "\n",
    "    df_nonopt['cost_dynamic'] = df_nonopt['prijs_incl_belastingen'] * POWER_KW\n",
    "    df_nonopt['cost_fixed'] = FIXED_PRICE * POWER_KW\n",
    "\n",
    "    daily_costs = (\n",
    "        df_nonopt.groupby(df_nonopt['datum_nl'].dt.date)[['cost_dynamic', 'cost_fixed']].sum()\n",
    "    )\n",
    "    total_dynamic = daily_costs['cost_dynamic'].sum()\n",
    "    total_fixed = daily_costs['cost_fixed'].sum()\n",
    "\n",
    "    # === OPTIMIZED (Gurobi): choose cheapest hours between 18:00 and 07:00 ===\n",
    "    unique_dates = sorted(df_charge['datum_nl'].dt.date.unique())\n",
    "    optimized_daily_costs = []\n",
    "\n",
    "    for i in range(len(unique_dates) - 1):\n",
    "        day_today = unique_dates[i]\n",
    "        next_day = unique_dates[i + 1]\n",
    "\n",
    "        # Select the 18:00–07:00 window (spanning two dates)\n",
    "        window = df[(df['datum_nl'].dt.date == day_today) & (df['hour'] >= CHARGE_START)]\n",
    "        window = pd.concat([window, df[(df['datum_nl'].dt.date == next_day) & (df['hour'] < CHARGE_END)]])\n",
    "        window = window.sort_values('datum_nl')\n",
    "\n",
    "        if window.empty:\n",
    "            continue\n",
    "\n",
    "        timesteps = range(len(window))\n",
    "        prices = {t: window.iloc[t]['prijs_incl_belastingen'] for t in timesteps}\n",
    "\n",
    "        model = Model()\n",
    "        charge = model.addVars(timesteps, lb=0, ub=POWER_KW, name=\"charge\")\n",
    "\n",
    "        # Energy requirement constraint\n",
    "        model.addConstr(sum(charge[t] for t in timesteps) == energy_kwh_per_day)\n",
    "\n",
    "        # Objective: minimize cost\n",
    "        model.setObjective(sum(prices[t] * charge[t] for t in timesteps), GRB.MINIMIZE)\n",
    "        model.setParam('OutputFlag', 0)\n",
    "        model.optimize()\n",
    "\n",
    "        optimized_daily_costs.append(model.objVal)\n",
    "\n",
    "    total_optimized = sum(optimized_daily_costs)\n",
    "    diff_opt_vs_fixed = total_optimized - total_fixed\n",
    "    diff_opt_vs_dyn = total_optimized - total_dynamic\n",
    "\n",
    "    return {\n",
    "        \"Scenario\": name,\n",
    "        \"Active days\": \", \".join(active_days) if active_days else \"Every day\",\n",
    "        \"Energy/day (kWh)\": energy_kwh_per_day,\n",
    "        \"Total dynamic (€)\": total_dynamic,\n",
    "        \"Total fixed (€)\": total_fixed,\n",
    "        \"Total optimized (€)\": total_optimized,\n",
    "        \"Δ opt - fixed (€)\": diff_opt_vs_fixed,\n",
    "        \"Δ opt - dyn (€)\": diff_opt_vs_dyn\n",
    "    }\n",
    "\n",
    "\n",
    "# === Define all four scenarios ===\n",
    "scenarios = [\n",
    "    (\"Distant commuter\", [], 29.6),                      # daily\n",
    "    (\"City hopper\", [], 7.4),                            # daily\n",
    "    (\"Road tripper\", [\"Saturday\", \"Sunday\"], 29.6),      # weekends\n",
    "    (\"Grocery grabber\", [\"Wednesday\", \"Sunday\"], 7.4)    # twice per week\n",
    "]\n",
    "\n",
    "# === Run all scenarios ===\n",
    "results = [calculate_scenario(*s) for s in scenarios]\n",
    "df_results = pd.DataFrame(results)\n",
    "\n",
    "df_results.to_csv(\"scenario_costs_2024.csv\", index=False)\n",
    "print(\"Results saved to 'scenario_costs_2024.csv'\")\n",
    "\n",
    "# === Final results table (no pandas formatting, no lambda) ===\n",
    "\n",
    "# Use ASCII-only column titles to avoid terminal/encoding issues\n",
    "print(f\"{'Scenario':<20} {'Active days':<25} {'Energy/day (kWh)':>17} \"\n",
    "      f\"{'Total dynamic (€)':>20} {'Total fixed (€)':>20} {'Total optimized (€)':>23} \"\n",
    "      f\"{'Difference optimized  (fixed) (€)':>20} {'Difference optimized  (dynamic) (€)':>20}\")\n",
    "print(\"-\" * 165)\n",
    "\n",
    "# Print directly from the 'results' list to avoid column-name mismatches\n",
    "for r in results:\n",
    "    print(f\"{r['Scenario']:<20} {r['Active days']:<25} {r['Energy/day (kWh)']:>17.1f} \"\n",
    "          f\"{r['Total dynamic (€)']:>20.2f} {r['Total fixed (€)']:>20.2f} \"\n",
    "          f\"{r['Total optimized (€)']:>23.2f} {r['Δ opt - fixed (€)']:>20.2f} {r['Δ opt - dyn (€)']:>20.2f}\")\n",
    "\n",
    "\n",
    "\n",
    "df.head()\n"
   ]
  },
  {
   "cell_type": "code",
   "execution_count": 12,
   "id": "ce1881ff",
   "metadata": {},
   "outputs": [
    {
     "data": {
      "text/html": [
       "<div>\n",
       "<style scoped>\n",
       "    .dataframe tbody tr th:only-of-type {\n",
       "        vertical-align: middle;\n",
       "    }\n",
       "\n",
       "    .dataframe tbody tr th {\n",
       "        vertical-align: top;\n",
       "    }\n",
       "\n",
       "    .dataframe thead th {\n",
       "        text-align: right;\n",
       "    }\n",
       "</style>\n",
       "<table border=\"1\" class=\"dataframe\">\n",
       "  <thead>\n",
       "    <tr style=\"text-align: right;\">\n",
       "      <th></th>\n",
       "      <th>datum_nl</th>\n",
       "      <th>datum_utc</th>\n",
       "      <th>prijs_excl_belastingen</th>\n",
       "      <th>hour</th>\n",
       "      <th>weekday</th>\n",
       "      <th>prijs_incl_belastingen</th>\n",
       "    </tr>\n",
       "  </thead>\n",
       "  <tbody>\n",
       "    <tr>\n",
       "      <th>8778</th>\n",
       "      <td>2024-12-31 19:00:00</td>\n",
       "      <td>2024-12-31 18:00:00</td>\n",
       "      <td>0.07</td>\n",
       "      <td>19</td>\n",
       "      <td>Tuesday</td>\n",
       "      <td>0.22</td>\n",
       "    </tr>\n",
       "    <tr>\n",
       "      <th>8779</th>\n",
       "      <td>2024-12-31 20:00:00</td>\n",
       "      <td>2024-12-31 19:00:00</td>\n",
       "      <td>0.06</td>\n",
       "      <td>20</td>\n",
       "      <td>Tuesday</td>\n",
       "      <td>0.20</td>\n",
       "    </tr>\n",
       "    <tr>\n",
       "      <th>8780</th>\n",
       "      <td>2024-12-31 21:00:00</td>\n",
       "      <td>2024-12-31 20:00:00</td>\n",
       "      <td>0.02</td>\n",
       "      <td>21</td>\n",
       "      <td>Tuesday</td>\n",
       "      <td>0.15</td>\n",
       "    </tr>\n",
       "    <tr>\n",
       "      <th>8781</th>\n",
       "      <td>2024-12-31 22:00:00</td>\n",
       "      <td>2024-12-31 21:00:00</td>\n",
       "      <td>0.01</td>\n",
       "      <td>22</td>\n",
       "      <td>Tuesday</td>\n",
       "      <td>0.14</td>\n",
       "    </tr>\n",
       "    <tr>\n",
       "      <th>8782</th>\n",
       "      <td>2024-12-31 23:00:00</td>\n",
       "      <td>2024-12-31 22:00:00</td>\n",
       "      <td>0.00</td>\n",
       "      <td>23</td>\n",
       "      <td>Tuesday</td>\n",
       "      <td>0.13</td>\n",
       "    </tr>\n",
       "  </tbody>\n",
       "</table>\n",
       "</div>"
      ],
      "text/plain": [
       "                datum_nl            datum_utc  prijs_excl_belastingen  hour  \\\n",
       "8778 2024-12-31 19:00:00  2024-12-31 18:00:00                    0.07    19   \n",
       "8779 2024-12-31 20:00:00  2024-12-31 19:00:00                    0.06    20   \n",
       "8780 2024-12-31 21:00:00  2024-12-31 20:00:00                    0.02    21   \n",
       "8781 2024-12-31 22:00:00  2024-12-31 21:00:00                    0.01    22   \n",
       "8782 2024-12-31 23:00:00  2024-12-31 22:00:00                    0.00    23   \n",
       "\n",
       "      weekday  prijs_incl_belastingen  \n",
       "8778  Tuesday                    0.22  \n",
       "8779  Tuesday                    0.20  \n",
       "8780  Tuesday                    0.15  \n",
       "8781  Tuesday                    0.14  \n",
       "8782  Tuesday                    0.13  "
      ]
     },
     "execution_count": 12,
     "metadata": {},
     "output_type": "execute_result"
    }
   ],
   "source": [
    "df.tail()"
   ]
  },
  {
   "cell_type": "code",
   "execution_count": 13,
   "id": "f0edf319",
   "metadata": {},
   "outputs": [
    {
     "data": {
      "application/vnd.plotly.v1+json": {
       "config": {
        "plotlyServerURL": "https://plot.ly"
       },
       "data": [
        {
         "line": {
          "color": "black",
          "width": 1.6
         },
         "mode": "lines",
         "name": "Dynamic price (€/kWh)",
         "type": "scatter",
         "x": [
          "2024-05-21T18:00:00.000000000",
          "2024-05-21T19:00:00.000000000",
          "2024-05-21T20:00:00.000000000",
          "2024-05-21T21:00:00.000000000",
          "2024-05-21T22:00:00.000000000",
          "2024-05-21T23:00:00.000000000",
          "2024-05-22T00:00:00.000000000",
          "2024-05-22T01:00:00.000000000",
          "2024-05-22T02:00:00.000000000",
          "2024-05-22T03:00:00.000000000",
          "2024-05-22T04:00:00.000000000",
          "2024-05-22T05:00:00.000000000",
          "2024-05-22T06:00:00.000000000"
         ],
         "y": {
          "bdata": "vxBy3v/H0D96Wcl9YWjRP/hb8cP3tNA/gDeTJSmf0D9r8/+qI0fQPz7ONGH7ydA/hMYCFUST0D93M1mS8knPPzwQWaSJd8w/nG7ZIf5hyz+XWd8bnrnLP7RB3Iserss/F3a92YsNzj8=",
          "dtype": "f8"
         },
         "yaxis": "y2"
        },
        {
         "marker": {
          "color": "red"
         },
         "name": "Non-optimized (18:00 start)",
         "opacity": 0.5,
         "type": "bar",
         "x": [
          "2024-05-21T18:00:00.000000000",
          "2024-05-21T19:00:00.000000000",
          "2024-05-21T20:00:00.000000000",
          "2024-05-21T21:00:00.000000000"
         ],
         "y": [
          7.4,
          7.4,
          7.4,
          7.4
         ],
         "yaxis": "y"
        },
        {
         "marker": {
          "color": "royalblue"
         },
         "name": "Optimized (cheapest hours)",
         "opacity": 0.7,
         "type": "bar",
         "x": [
          "2024-05-21T18:00:00.000000000",
          "2024-05-21T19:00:00.000000000",
          "2024-05-21T20:00:00.000000000",
          "2024-05-21T21:00:00.000000000",
          "2024-05-21T22:00:00.000000000",
          "2024-05-21T23:00:00.000000000",
          "2024-05-22T00:00:00.000000000",
          "2024-05-22T01:00:00.000000000",
          "2024-05-22T02:00:00.000000000",
          "2024-05-22T03:00:00.000000000",
          "2024-05-22T04:00:00.000000000",
          "2024-05-22T05:00:00.000000000",
          "2024-05-22T06:00:00.000000000"
         ],
         "y": [
          0,
          0,
          0,
          0,
          0,
          0,
          0,
          0,
          7.400000000000002,
          7.4,
          7.4,
          7.4,
          0
         ],
         "yaxis": "y"
        }
       ],
       "layout": {
        "hovermode": "x unified",
        "legend": {
         "orientation": "h",
         "x": 0.5,
         "xanchor": "center",
         "y": -0.25,
         "yanchor": "top"
        },
        "template": {
         "data": {
          "bar": [
           {
            "error_x": {
             "color": "#2a3f5f"
            },
            "error_y": {
             "color": "#2a3f5f"
            },
            "marker": {
             "line": {
              "color": "white",
              "width": 0.5
             },
             "pattern": {
              "fillmode": "overlay",
              "size": 10,
              "solidity": 0.2
             }
            },
            "type": "bar"
           }
          ],
          "barpolar": [
           {
            "marker": {
             "line": {
              "color": "white",
              "width": 0.5
             },
             "pattern": {
              "fillmode": "overlay",
              "size": 10,
              "solidity": 0.2
             }
            },
            "type": "barpolar"
           }
          ],
          "carpet": [
           {
            "aaxis": {
             "endlinecolor": "#2a3f5f",
             "gridcolor": "#C8D4E3",
             "linecolor": "#C8D4E3",
             "minorgridcolor": "#C8D4E3",
             "startlinecolor": "#2a3f5f"
            },
            "baxis": {
             "endlinecolor": "#2a3f5f",
             "gridcolor": "#C8D4E3",
             "linecolor": "#C8D4E3",
             "minorgridcolor": "#C8D4E3",
             "startlinecolor": "#2a3f5f"
            },
            "type": "carpet"
           }
          ],
          "choropleth": [
           {
            "colorbar": {
             "outlinewidth": 0,
             "ticks": ""
            },
            "type": "choropleth"
           }
          ],
          "contour": [
           {
            "colorbar": {
             "outlinewidth": 0,
             "ticks": ""
            },
            "colorscale": [
             [
              0,
              "#0d0887"
             ],
             [
              0.1111111111111111,
              "#46039f"
             ],
             [
              0.2222222222222222,
              "#7201a8"
             ],
             [
              0.3333333333333333,
              "#9c179e"
             ],
             [
              0.4444444444444444,
              "#bd3786"
             ],
             [
              0.5555555555555556,
              "#d8576b"
             ],
             [
              0.6666666666666666,
              "#ed7953"
             ],
             [
              0.7777777777777778,
              "#fb9f3a"
             ],
             [
              0.8888888888888888,
              "#fdca26"
             ],
             [
              1,
              "#f0f921"
             ]
            ],
            "type": "contour"
           }
          ],
          "contourcarpet": [
           {
            "colorbar": {
             "outlinewidth": 0,
             "ticks": ""
            },
            "type": "contourcarpet"
           }
          ],
          "heatmap": [
           {
            "colorbar": {
             "outlinewidth": 0,
             "ticks": ""
            },
            "colorscale": [
             [
              0,
              "#0d0887"
             ],
             [
              0.1111111111111111,
              "#46039f"
             ],
             [
              0.2222222222222222,
              "#7201a8"
             ],
             [
              0.3333333333333333,
              "#9c179e"
             ],
             [
              0.4444444444444444,
              "#bd3786"
             ],
             [
              0.5555555555555556,
              "#d8576b"
             ],
             [
              0.6666666666666666,
              "#ed7953"
             ],
             [
              0.7777777777777778,
              "#fb9f3a"
             ],
             [
              0.8888888888888888,
              "#fdca26"
             ],
             [
              1,
              "#f0f921"
             ]
            ],
            "type": "heatmap"
           }
          ],
          "histogram": [
           {
            "marker": {
             "pattern": {
              "fillmode": "overlay",
              "size": 10,
              "solidity": 0.2
             }
            },
            "type": "histogram"
           }
          ],
          "histogram2d": [
           {
            "colorbar": {
             "outlinewidth": 0,
             "ticks": ""
            },
            "colorscale": [
             [
              0,
              "#0d0887"
             ],
             [
              0.1111111111111111,
              "#46039f"
             ],
             [
              0.2222222222222222,
              "#7201a8"
             ],
             [
              0.3333333333333333,
              "#9c179e"
             ],
             [
              0.4444444444444444,
              "#bd3786"
             ],
             [
              0.5555555555555556,
              "#d8576b"
             ],
             [
              0.6666666666666666,
              "#ed7953"
             ],
             [
              0.7777777777777778,
              "#fb9f3a"
             ],
             [
              0.8888888888888888,
              "#fdca26"
             ],
             [
              1,
              "#f0f921"
             ]
            ],
            "type": "histogram2d"
           }
          ],
          "histogram2dcontour": [
           {
            "colorbar": {
             "outlinewidth": 0,
             "ticks": ""
            },
            "colorscale": [
             [
              0,
              "#0d0887"
             ],
             [
              0.1111111111111111,
              "#46039f"
             ],
             [
              0.2222222222222222,
              "#7201a8"
             ],
             [
              0.3333333333333333,
              "#9c179e"
             ],
             [
              0.4444444444444444,
              "#bd3786"
             ],
             [
              0.5555555555555556,
              "#d8576b"
             ],
             [
              0.6666666666666666,
              "#ed7953"
             ],
             [
              0.7777777777777778,
              "#fb9f3a"
             ],
             [
              0.8888888888888888,
              "#fdca26"
             ],
             [
              1,
              "#f0f921"
             ]
            ],
            "type": "histogram2dcontour"
           }
          ],
          "mesh3d": [
           {
            "colorbar": {
             "outlinewidth": 0,
             "ticks": ""
            },
            "type": "mesh3d"
           }
          ],
          "parcoords": [
           {
            "line": {
             "colorbar": {
              "outlinewidth": 0,
              "ticks": ""
             }
            },
            "type": "parcoords"
           }
          ],
          "pie": [
           {
            "automargin": true,
            "type": "pie"
           }
          ],
          "scatter": [
           {
            "fillpattern": {
             "fillmode": "overlay",
             "size": 10,
             "solidity": 0.2
            },
            "type": "scatter"
           }
          ],
          "scatter3d": [
           {
            "line": {
             "colorbar": {
              "outlinewidth": 0,
              "ticks": ""
             }
            },
            "marker": {
             "colorbar": {
              "outlinewidth": 0,
              "ticks": ""
             }
            },
            "type": "scatter3d"
           }
          ],
          "scattercarpet": [
           {
            "marker": {
             "colorbar": {
              "outlinewidth": 0,
              "ticks": ""
             }
            },
            "type": "scattercarpet"
           }
          ],
          "scattergeo": [
           {
            "marker": {
             "colorbar": {
              "outlinewidth": 0,
              "ticks": ""
             }
            },
            "type": "scattergeo"
           }
          ],
          "scattergl": [
           {
            "marker": {
             "colorbar": {
              "outlinewidth": 0,
              "ticks": ""
             }
            },
            "type": "scattergl"
           }
          ],
          "scattermap": [
           {
            "marker": {
             "colorbar": {
              "outlinewidth": 0,
              "ticks": ""
             }
            },
            "type": "scattermap"
           }
          ],
          "scattermapbox": [
           {
            "marker": {
             "colorbar": {
              "outlinewidth": 0,
              "ticks": ""
             }
            },
            "type": "scattermapbox"
           }
          ],
          "scatterpolar": [
           {
            "marker": {
             "colorbar": {
              "outlinewidth": 0,
              "ticks": ""
             }
            },
            "type": "scatterpolar"
           }
          ],
          "scatterpolargl": [
           {
            "marker": {
             "colorbar": {
              "outlinewidth": 0,
              "ticks": ""
             }
            },
            "type": "scatterpolargl"
           }
          ],
          "scatterternary": [
           {
            "marker": {
             "colorbar": {
              "outlinewidth": 0,
              "ticks": ""
             }
            },
            "type": "scatterternary"
           }
          ],
          "surface": [
           {
            "colorbar": {
             "outlinewidth": 0,
             "ticks": ""
            },
            "colorscale": [
             [
              0,
              "#0d0887"
             ],
             [
              0.1111111111111111,
              "#46039f"
             ],
             [
              0.2222222222222222,
              "#7201a8"
             ],
             [
              0.3333333333333333,
              "#9c179e"
             ],
             [
              0.4444444444444444,
              "#bd3786"
             ],
             [
              0.5555555555555556,
              "#d8576b"
             ],
             [
              0.6666666666666666,
              "#ed7953"
             ],
             [
              0.7777777777777778,
              "#fb9f3a"
             ],
             [
              0.8888888888888888,
              "#fdca26"
             ],
             [
              1,
              "#f0f921"
             ]
            ],
            "type": "surface"
           }
          ],
          "table": [
           {
            "cells": {
             "fill": {
              "color": "#EBF0F8"
             },
             "line": {
              "color": "white"
             }
            },
            "header": {
             "fill": {
              "color": "#C8D4E3"
             },
             "line": {
              "color": "white"
             }
            },
            "type": "table"
           }
          ]
         },
         "layout": {
          "annotationdefaults": {
           "arrowcolor": "#2a3f5f",
           "arrowhead": 0,
           "arrowwidth": 1
          },
          "autotypenumbers": "strict",
          "coloraxis": {
           "colorbar": {
            "outlinewidth": 0,
            "ticks": ""
           }
          },
          "colorscale": {
           "diverging": [
            [
             0,
             "#8e0152"
            ],
            [
             0.1,
             "#c51b7d"
            ],
            [
             0.2,
             "#de77ae"
            ],
            [
             0.3,
             "#f1b6da"
            ],
            [
             0.4,
             "#fde0ef"
            ],
            [
             0.5,
             "#f7f7f7"
            ],
            [
             0.6,
             "#e6f5d0"
            ],
            [
             0.7,
             "#b8e186"
            ],
            [
             0.8,
             "#7fbc41"
            ],
            [
             0.9,
             "#4d9221"
            ],
            [
             1,
             "#276419"
            ]
           ],
           "sequential": [
            [
             0,
             "#0d0887"
            ],
            [
             0.1111111111111111,
             "#46039f"
            ],
            [
             0.2222222222222222,
             "#7201a8"
            ],
            [
             0.3333333333333333,
             "#9c179e"
            ],
            [
             0.4444444444444444,
             "#bd3786"
            ],
            [
             0.5555555555555556,
             "#d8576b"
            ],
            [
             0.6666666666666666,
             "#ed7953"
            ],
            [
             0.7777777777777778,
             "#fb9f3a"
            ],
            [
             0.8888888888888888,
             "#fdca26"
            ],
            [
             1,
             "#f0f921"
            ]
           ],
           "sequentialminus": [
            [
             0,
             "#0d0887"
            ],
            [
             0.1111111111111111,
             "#46039f"
            ],
            [
             0.2222222222222222,
             "#7201a8"
            ],
            [
             0.3333333333333333,
             "#9c179e"
            ],
            [
             0.4444444444444444,
             "#bd3786"
            ],
            [
             0.5555555555555556,
             "#d8576b"
            ],
            [
             0.6666666666666666,
             "#ed7953"
            ],
            [
             0.7777777777777778,
             "#fb9f3a"
            ],
            [
             0.8888888888888888,
             "#fdca26"
            ],
            [
             1,
             "#f0f921"
            ]
           ]
          },
          "colorway": [
           "#636efa",
           "#EF553B",
           "#00cc96",
           "#ab63fa",
           "#FFA15A",
           "#19d3f3",
           "#FF6692",
           "#B6E880",
           "#FF97FF",
           "#FECB52"
          ],
          "font": {
           "color": "#2a3f5f"
          },
          "geo": {
           "bgcolor": "white",
           "lakecolor": "white",
           "landcolor": "white",
           "showlakes": true,
           "showland": true,
           "subunitcolor": "#C8D4E3"
          },
          "hoverlabel": {
           "align": "left"
          },
          "hovermode": "closest",
          "mapbox": {
           "style": "light"
          },
          "paper_bgcolor": "white",
          "plot_bgcolor": "white",
          "polar": {
           "angularaxis": {
            "gridcolor": "#EBF0F8",
            "linecolor": "#EBF0F8",
            "ticks": ""
           },
           "bgcolor": "white",
           "radialaxis": {
            "gridcolor": "#EBF0F8",
            "linecolor": "#EBF0F8",
            "ticks": ""
           }
          },
          "scene": {
           "xaxis": {
            "backgroundcolor": "white",
            "gridcolor": "#DFE8F3",
            "gridwidth": 2,
            "linecolor": "#EBF0F8",
            "showbackground": true,
            "ticks": "",
            "zerolinecolor": "#EBF0F8"
           },
           "yaxis": {
            "backgroundcolor": "white",
            "gridcolor": "#DFE8F3",
            "gridwidth": 2,
            "linecolor": "#EBF0F8",
            "showbackground": true,
            "ticks": "",
            "zerolinecolor": "#EBF0F8"
           },
           "zaxis": {
            "backgroundcolor": "white",
            "gridcolor": "#DFE8F3",
            "gridwidth": 2,
            "linecolor": "#EBF0F8",
            "showbackground": true,
            "ticks": "",
            "zerolinecolor": "#EBF0F8"
           }
          },
          "shapedefaults": {
           "line": {
            "color": "#2a3f5f"
           }
          },
          "ternary": {
           "aaxis": {
            "gridcolor": "#DFE8F3",
            "linecolor": "#A2B1C6",
            "ticks": ""
           },
           "baxis": {
            "gridcolor": "#DFE8F3",
            "linecolor": "#A2B1C6",
            "ticks": ""
           },
           "bgcolor": "white",
           "caxis": {
            "gridcolor": "#DFE8F3",
            "linecolor": "#A2B1C6",
            "ticks": ""
           }
          },
          "title": {
           "x": 0.05
          },
          "xaxis": {
           "automargin": true,
           "gridcolor": "#EBF0F8",
           "linecolor": "#EBF0F8",
           "ticks": "",
           "title": {
            "standoff": 15
           },
           "zerolinecolor": "#EBF0F8",
           "zerolinewidth": 2
          },
          "yaxis": {
           "automargin": true,
           "gridcolor": "#EBF0F8",
           "linecolor": "#EBF0F8",
           "ticks": "",
           "title": {
            "standoff": 15
           },
           "zerolinecolor": "#EBF0F8",
           "zerolinewidth": 2
          }
         }
        },
        "title": {
         "text": "Distant Commuter – Optimized vs. Immediate Charging (2024-05-21)"
        },
        "xaxis": {
         "title": {
          "text": "Time (18:00 – 07:00 next day)"
         }
        },
        "yaxis": {
         "range": [
          0,
          8.4
         ],
         "title": {
          "text": "Charging Power (kW)"
         }
        },
        "yaxis2": {
         "overlaying": "y",
         "side": "right",
         "tickprefix": "€",
         "title": {
          "text": "Price (€/kWh)"
         }
        }
       }
      }
     },
     "metadata": {},
     "output_type": "display_data"
    }
   ],
   "source": [
    "import plotly.graph_objects as go\n",
    "from random import choice\n",
    "\n",
    "# === Pick one random day from the dataset ===\n",
    "unique_dates = sorted(df['datum_nl'].dt.date.unique())\n",
    "random_day = choice(unique_dates[:-1])                # random day except the last\n",
    "next_day = unique_dates[unique_dates.index(random_day) + 1]\n",
    "\n",
    "# === Extract the 18:00–07:00 window for that night ===\n",
    "window = df[(df['datum_nl'].dt.date == random_day) & (df['hour'] >= CHARGE_START)]\n",
    "window = pd.concat([\n",
    "    window,\n",
    "    df[(df['datum_nl'].dt.date == next_day) & (df['hour'] < CHARGE_END)]\n",
    "])\n",
    "window = window.sort_values('datum_nl').reset_index(drop=True)\n",
    "\n",
    "# === Non-optimized: charge immediately at 18:00 until full ===\n",
    "energy_needed = 29.6                      # kWh for Distant Commuter\n",
    "needed_hours = int(energy_needed / POWER_KW)   # 29.6 / 7.4 = 4 hours\n",
    "nonopt_hours = window.head(needed_hours)\n",
    "\n",
    "# === Optimized: choose cheapest hours with Gurobi ===\n",
    "timesteps = range(len(window))\n",
    "prices = {t: window.iloc[t]['prijs_incl_belastingen'] for t in timesteps}\n",
    "\n",
    "model = Model()\n",
    "charge = model.addVars(timesteps, lb=0, ub=POWER_KW)\n",
    "model.addConstr(sum(charge[t] for t in timesteps) == energy_needed)\n",
    "model.setObjective(sum(prices[t] * charge[t] for t in timesteps), GRB.MINIMIZE)\n",
    "model.setParam('OutputFlag', 0)\n",
    "model.optimize()\n",
    "optimized_schedule = [charge[t].X for t in timesteps]\n",
    "\n",
    "# === Build Plotly figure ===\n",
    "fig = go.Figure()\n",
    "\n",
    "# Price line\n",
    "fig.add_trace(go.Scatter(\n",
    "    x=window['datum_nl'], y=window['prijs_incl_belastingen'],\n",
    "    mode='lines', name='Dynamic price (€/kWh)',\n",
    "    line=dict(color='black', width=1.6),\n",
    "    yaxis='y2'\n",
    "))\n",
    "\n",
    "# Non-optimized charging bars (immediate at 18:00)\n",
    "fig.add_trace(go.Bar(\n",
    "    x=nonopt_hours['datum_nl'],\n",
    "    y=[POWER_KW] * len(nonopt_hours),\n",
    "    name='Non-optimized (18:00 start)',\n",
    "    marker_color='red',\n",
    "    opacity=0.5,\n",
    "    yaxis='y1'\n",
    "))\n",
    "\n",
    "# Optimized charging bars\n",
    "fig.add_trace(go.Bar(\n",
    "    x=window['datum_nl'],\n",
    "    y=optimized_schedule,\n",
    "    name='Optimized (cheapest hours)',\n",
    "    marker_color='royalblue',\n",
    "    opacity=0.7,\n",
    "    yaxis='y1'\n",
    "))\n",
    "\n",
    "# Layout\n",
    "fig.update_layout(\n",
    "    title=f\"Distant Commuter – Optimized vs. Immediate Charging ({random_day})\",\n",
    "    template=\"plotly_white\",\n",
    "    hovermode=\"x unified\",\n",
    "    xaxis=dict(title=\"Time (18:00 – 07:00 next day)\"),\n",
    "    yaxis=dict(title=\"Charging Power (kW)\", range=[0, POWER_KW + 1]),\n",
    "    yaxis2=dict(title=\"Price (€/kWh)\", overlaying=\"y\", side=\"right\", tickprefix=\"€\"),\n",
    "    legend=dict(orientation=\"h\", yanchor=\"top\", y=-0.25, xanchor=\"center\", x=0.5)\n",
    ")\n",
    "\n",
    "fig.show()\n"
   ]
  },
  {
   "cell_type": "code",
   "execution_count": 15,
   "id": "b5e4996d",
   "metadata": {},
   "outputs": [
    {
     "name": "stdout",
     "output_type": "stream",
     "text": [
      "Results saved to 'scenario_costs_2024.csv'\n",
      "\n",
      "Scenario                     Active days                Energy/day (kWh)    Total dynamic (€)      Total fixed (€)     Total optimized (€)    Δ opt - fixed (€)      Δ opt - dyn (€)\n",
      "------------------------------------------------------------------------------------------------------------------------------------------------------------------------------------\n",
      "Distant commuter             Every day                              29.6              2337.97              3445.08                 2256.47             -1188.62               -81.50\n",
      "City hopper                  Every day                               7.4               605.68               861.27                  550.45              -310.82               -55.23\n",
      "Road tripper                 Saturday, Sunday                       29.6               665.34               978.93                  610.20              -368.73               -55.14\n",
      "Grocery grabber              Wednesday, Sunday                       7.4               170.55               244.73                  146.81               -97.93               -23.74\n",
      "Night charger (01-06)        Every day                              29.6              2307.63                 0.00                    0.00                 0.00                 0.00\n",
      "\n",
      "==============================================================\n",
      "\n"
     ]
    }
   ],
   "source": [
    "import pandas as pd\n",
    "from gurobipy import *\n",
    "\n",
    "# === INPUT PARAMETERS ===\n",
    "FILE_PATH = \"jeroen_punt_nl_dynamische_stroomprijzen_jaar_2024.csv\"\n",
    "FIXED_PRICE = 0.318  # €/kWh (fixed contract incl. taxes)\n",
    "POWER_KW = 7.4       # charging power (1-phase wallbox)\n",
    "CHARGE_START = 18    # start hour (18:00)\n",
    "CHARGE_END = 7       # end hour next morning (07:00)\n",
    "TAX_SURCHARGE = 0.10880\n",
    "BTW = 1.21\n",
    "\n",
    "# === LOAD DATA ===\n",
    "df = pd.read_csv(FILE_PATH, sep=';', decimal=',')\n",
    "df['datum_nl'] = pd.to_datetime(df['datum_nl'])\n",
    "df['hour'] = df['datum_nl'].dt.hour\n",
    "df['weekday'] = df['datum_nl'].dt.day_name()\n",
    "\n",
    "# === INCLUDE TAXES ===\n",
    "df['prijs_incl_belastingen'] = (df['prijs_excl_belastingen'] + TAX_SURCHARGE) * BTW\n",
    "\n",
    "\n",
    "# === FUNCTION: CALCULATE ONE SCENARIO ===\n",
    "def calculate_scenario(name, active_days, energy_kwh_per_day, night_window=False):\n",
    "    \"\"\"\n",
    "    Calculates yearly cost for one scenario:\n",
    "    - if night_window=True, charges always between 01:00–06:00 at variable prices\n",
    "    - else: compares immediate (non-opt) vs optimized (Gurobi) charging between 18:00–07:00\n",
    "    \"\"\"\n",
    "\n",
    "    # === CASE 1: NIGHT WINDOW SCENARIO (01:00–06:00 FIXED HOURS) ===\n",
    "    if night_window:\n",
    "        df_night = df[(df['hour'] >= 1) & (df['hour'] < 4)].copy()\n",
    "        if active_days:\n",
    "            df_night = df_night[df_night['weekday'].isin(active_days)]\n",
    "\n",
    "        n_hours = len(df_night['hour'].unique())\n",
    "        energy_per_hour = energy_kwh_per_day / n_hours\n",
    "\n",
    "        df_night['cost_dynamic'] = df_night['prijs_incl_belastingen'] * energy_per_hour\n",
    "        total_dynamic = df_night['cost_dynamic'].sum()\n",
    "\n",
    "        return {\n",
    "            \"Scenario\": name,\n",
    "            \"Active days\": \", \".join(active_days) if active_days else \"Every day\",\n",
    "            \"Energy/day (kWh)\": energy_kwh_per_day,\n",
    "            \"Total dynamic (€)\": total_dynamic,\n",
    "            \"Total fixed (€)\": None,\n",
    "            \"Total optimized (€)\": None,\n",
    "            \"Δ opt - fixed (€)\": None,\n",
    "            \"Δ opt - dyn (€)\": None\n",
    "        }\n",
    "\n",
    "    # === CASE 2: REGULAR SCENARIOS (18:00–07:00 WINDOW) ===\n",
    "    df_charge = df[(df['hour'] >= CHARGE_START) | (df['hour'] < CHARGE_END)].copy()\n",
    "\n",
    "    if active_days:\n",
    "        df_charge = df_charge[df_charge['weekday'].isin(active_days)]\n",
    "\n",
    "    # === Non-optimized: charge immediately from 18:00 ===\n",
    "    def get_first_hours(group):\n",
    "        needed_hours = int(energy_kwh_per_day / POWER_KW)\n",
    "        return group.head(needed_hours)\n",
    "\n",
    "    df_nonopt = (\n",
    "        df_charge.groupby(df_charge['datum_nl'].dt.date, group_keys=False)\n",
    "        .apply(get_first_hours)\n",
    "    )\n",
    "\n",
    "    df_nonopt['cost_dynamic'] = df_nonopt['prijs_incl_belastingen'] * POWER_KW\n",
    "    df_nonopt['cost_fixed'] = FIXED_PRICE * POWER_KW\n",
    "\n",
    "    daily_costs = (\n",
    "        df_nonopt.groupby(df_nonopt['datum_nl'].dt.date)[['cost_dynamic', 'cost_fixed']].sum()\n",
    "    )\n",
    "\n",
    "    total_dynamic = daily_costs['cost_dynamic'].sum()\n",
    "    total_fixed = daily_costs['cost_fixed'].sum()\n",
    "\n",
    "    # === Optimized (Gurobi): choose cheapest hours 18:00–07:00 ===\n",
    "    unique_dates = sorted(df_charge['datum_nl'].dt.date.unique())\n",
    "    optimized_daily_costs = []\n",
    "\n",
    "    for i in range(len(unique_dates) - 1):\n",
    "        day_today = unique_dates[i]\n",
    "        next_day = unique_dates[i + 1]\n",
    "\n",
    "        # Select 18:00–07:00 window\n",
    "        window = df[(df['datum_nl'].dt.date == day_today) & (df['hour'] >= CHARGE_START)]\n",
    "        window = pd.concat([window, df[(df['datum_nl'].dt.date == next_day) & (df['hour'] < CHARGE_END)]])\n",
    "        window = window.sort_values('datum_nl')\n",
    "\n",
    "        if window.empty:\n",
    "            continue\n",
    "\n",
    "        timesteps = range(len(window))\n",
    "        prices = {t: window.iloc[t]['prijs_incl_belastingen'] for t in timesteps}\n",
    "\n",
    "        model = Model()\n",
    "        charge = model.addVars(timesteps, lb=0, ub=POWER_KW, name=\"charge\")\n",
    "        model.addConstr(sum(charge[t] for t in timesteps) == energy_kwh_per_day)\n",
    "        model.setObjective(sum(prices[t] * charge[t] for t in timesteps), GRB.MINIMIZE)\n",
    "        model.setParam('OutputFlag', 0)\n",
    "        model.optimize()\n",
    "\n",
    "        optimized_daily_costs.append(model.objVal)\n",
    "\n",
    "    total_optimized = sum(optimized_daily_costs)\n",
    "    diff_opt_vs_fixed = total_optimized - total_fixed\n",
    "    diff_opt_vs_dyn = total_optimized - total_dynamic\n",
    "\n",
    "    return {\n",
    "        \"Scenario\": name,\n",
    "        \"Active days\": \", \".join(active_days) if active_days else \"Every day\",\n",
    "        \"Energy/day (kWh)\": energy_kwh_per_day,\n",
    "        \"Total dynamic (€)\": total_dynamic,\n",
    "        \"Total fixed (€)\": total_fixed,\n",
    "        \"Total optimized (€)\": total_optimized,\n",
    "        \"Δ opt - fixed (€)\": diff_opt_vs_fixed,\n",
    "        \"Δ opt - dyn (€)\": diff_opt_vs_dyn\n",
    "    }\n",
    "\n",
    "\n",
    "# === DEFINE ALL FIVE SCENARIOS ===\n",
    "scenarios = [\n",
    "    (\"Distant commuter\", [], 29.6, False),                      # daily\n",
    "    (\"City hopper\", [], 7.4, False),                            # daily\n",
    "    (\"Road tripper\", [\"Saturday\", \"Sunday\"], 29.6, False),      # weekends\n",
    "    (\"Grocery grabber\", [\"Wednesday\", \"Sunday\"], 7.4, False),   # twice per week\n",
    "    (\"Night charger (01-06)\", [], 29.6, True)                   # new scenario (variable contract)\n",
    "]\n",
    "\n",
    "# === RUN ALL SCENARIOS ===\n",
    "results = [calculate_scenario(*s) for s in scenarios]\n",
    "df_results = pd.DataFrame(results)\n",
    "\n",
    "# === SAVE RESULTS ===\n",
    "df_results.to_csv(\"scenario_costs_2024.csv\", index=False)\n",
    "print(\"Results saved to 'scenario_costs_2024.csv'\")\n",
    "\n",
    "# === PRINT TABLE ===\n",
    "print(f\"\\n{'Scenario':<28} {'Active days':<25} {'Energy/day (kWh)':>17} \"\n",
    "      f\"{'Total dynamic (€)':>20} {'Total fixed (€)':>20} {'Total optimized (€)':>23} \"\n",
    "      f\"{'Δ opt - fixed (€)':>20} {'Δ opt - dyn (€)':>20}\")\n",
    "print(\"-\" * 180)\n",
    "\n",
    "for r in results:\n",
    "    print(f\"{r['Scenario']:<28} {r['Active days']:<25} {r['Energy/day (kWh)']:>17.1f} \"\n",
    "          f\"{(r['Total dynamic (€)'] or 0):>20.2f} {(r['Total fixed (€)'] or 0):>20.2f} \"\n",
    "          f\"{(r['Total optimized (€)'] or 0):>23.2f} {(r['Δ opt - fixed (€)'] or 0):>20.2f} {(r['Δ opt - dyn (€)'] or 0):>20.2f}\")\n",
    "\n",
    "print(\"\\n==============================================================\\n\")\n"
   ]
  }
 ],
 "metadata": {
  "kernelspec": {
   "display_name": "TIL6022",
   "language": "python",
   "name": "python3"
  },
  "language_info": {
   "codemirror_mode": {
    "name": "ipython",
    "version": 3
   },
   "file_extension": ".py",
   "mimetype": "text/x-python",
   "name": "python",
   "nbconvert_exporter": "python",
   "pygments_lexer": "ipython3",
   "version": "3.13.5"
  }
 },
 "nbformat": 4,
 "nbformat_minor": 5
}
