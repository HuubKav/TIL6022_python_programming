{
 "cells": [
  {
   "cell_type": "markdown",
   "metadata": {},
   "source": [
    "# Project Group - \n",
    "\n",
    "Members: Yme Tuik, Gijs Meijers, Bart Ligtenberg, Huub Kavelaars\n",
    "\n",
    "Student numbers: 5026369, 4957822, 5407710, 5085330"
   ]
  },
  {
   "cell_type": "markdown",
   "metadata": {},
   "source": [
    "# Research Objective\n",
    "\n",
    "*Requires data modeling and quantitative research in Transport, Infrastructure & Logistics*"
   ]
  },
  {
   "cell_type": "markdown",
   "metadata": {},
   "source": [
    "Small logistics firms increasingly consider electrifying their vehicles, but volatile hourly electricity prices make charging costs uncertain, and upfront EV investments are hard to justify without clear savings. This report focuses on when to charge, not just how much, by optimizing depot charging against dynamic prices, ensuring vehicles leave with the required State of Charge. As an optional extension, we assess whether adding rooftop solar meaningfully lowers grid purchases and shortens payback. The outcome is a practical, data-driven guideline for small companies to cut operating costs and make informed steps toward cleaner transport.\n",
    "\n",
    "**Main research question** \\\n",
    "What charging schedule minimizes the daily energy cost for a small depot-based EV fleet, under dynamic hourly electricity prices, while meeting per-vehicle departure state of charge (SoC) requirements and site/charger constraints?\n",
    "\n",
    "**Sub-question**\\\n",
    "What is the payback period for a rooftop PV investment, and how does it vary with PV size and electricity price scenarios?\n",
    "\n",
    "\n",
    "Scope for clarity: \n",
    "one depot; 3–6 vehicles; 1 hour time steps; base case = 1 day, with a short week-long robustness check. \n",
    "\n",
    "Key outputs: \n",
    " - Total cost [€]\n",
    " - Peak grid power [kW]\n",
    " - SoC-violation count [target 0]\n",
    " - PV payback [years]"
   ]
  },
  {
   "cell_type": "markdown",
   "metadata": {},
   "source": [
    "# Contribution Statement\n",
    "\n",
    "*Be specific. Some of the tasks can be coding (expect everyone to do this), background research, conceptualisation, visualisation, data analysis, data modelling*"
   ]
  },
  {
   "cell_type": "markdown",
   "metadata": {},
   "source": [
    "**Yme Tuik**: Background research on topic and writing of the proposal\n",
    "\n",
    "**Gijs Meijers**: Background research on topic and writing of the proposal\n",
    "\n",
    "**Bart Ligtenberg**: Background research on topic and writing of the proposal\n",
    "\n",
    "**Huub Kavelaars**: Creating GitHub environment, Background research on topic and writing of the proposal"
   ]
  },
  {
   "cell_type": "markdown",
   "metadata": {},
   "source": [
    "# Data Used"
   ]
  },
  {
   "cell_type": "markdown",
   "metadata": {},
   "source": [
    "The data used is the 'jeroen_punt_nl_dynamische_stroomprijzen_jaar_2024.csv'"
   ]
  },
  {
   "cell_type": "markdown",
   "metadata": {},
   "source": [
    "# Data Pipeline"
   ]
  },
  {
   "cell_type": "markdown",
   "metadata": {},
   "source": []
  }
 ],
 "metadata": {
  "kernelspec": {
   "display_name": "ME44206-Quantitative_Methods",
   "language": "python",
   "name": "python3"
  },
  "language_info": {
   "name": "python",
   "version": "3.13.7"
  },
  "orig_nbformat": 4
 },
 "nbformat": 4,
 "nbformat_minor": 2
}
