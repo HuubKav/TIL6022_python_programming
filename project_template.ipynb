{
 "cells": [
  {
   "cell_type": "markdown",
   "metadata": {},
   "source": [
    "# Project Group - \n",
    "\n",
    "Members: Yme Tuik, Gijs Meijers, Bart Ligtenberg, Huub Kavelaars\n",
    "\n",
    "Student numbers: 5026369, 4957822, 5407710, 5085330"
   ]
  },
  {
   "cell_type": "markdown",
   "metadata": {},
   "source": [
    "# Research Objective\n",
    "\n",
    "*Requires data modeling and quantitative research in Transport, Infrastructure & Logistics*"
   ]
  },
  {
   "cell_type": "markdown",
   "metadata": {},
   "source": [
    "Elke dag om 18 uur savonds komen er vrachtwagens aan de elektrische lader. "
   ]
  },
  {
   "cell_type": "markdown",
   "metadata": {},
   "source": [
    "# Contribution Statement\n",
    "\n",
    "*Be specific. Some of the tasks can be coding (expect everyone to do this), background research, conceptualisation, visualisation, data analysis, data modelling*"
   ]
  },
  {
   "cell_type": "markdown",
   "metadata": {},
   "source": [
    "**Yme Tuik**: \n",
    "\n",
    "**Gijs Meijers**: \n",
    "\n",
    "**Bart Ligtenberg**: \n",
    "\n",
    "**Huub Kavelaars**: Creating GitHub environment, "
   ]
  },
  {
   "cell_type": "markdown",
   "metadata": {},
   "source": [
    "# Data Used"
   ]
  },
  {
   "cell_type": "markdown",
   "metadata": {},
   "source": [
    "import kagglehub\n",
    "\n",
    "(Download latest version)\n",
    "path = kagglehub.dataset_download(\"ziya07/ev-energy-consumption-dataset\")\n",
    "\n",
    "print(\"Path to dataset files:\", path)"
   ]
  },
  {
   "cell_type": "markdown",
   "metadata": {},
   "source": [
    "# Data Pipeline"
   ]
  },
  {
   "cell_type": "markdown",
   "metadata": {},
   "source": [
    "*Data Ingestion* \n",
    "\n",
    "The dataset is imported into Python using the pandas library.\n",
    "Development and analysis are carried out in Visual Studio Code within a virtual Python environment to ensure reproducibility.\n",
    "\n",
    "*Data Cleaning*\n",
    "\n",
    "Missing values and inconsistencies (e.g., missing timestamps, negative values) are identified and corrected.\n",
    "Units are checked and standardized (€/kWh for prices).\n",
    "\n",
    "*Data Transformation*\n",
    "\n",
    "Charging scenarios are defined for further analysis (e.g., charging during daytime, nighttime, or at the cheapest available time).\n",
    "\n",
    "*Data Storage*\n",
    "\n",
    "The dataset is stored as a CSV file to allow reproducibility and incremental analysis. Version control (Git) is used to track scripts and transformations.\n",
    "\n",
    "*Data Analysis & Optimization*\n",
    "\n",
    "Optimization models are implemented in Python to identify cost-efficient charging schedules, considering dynamic electricity prices.\n",
    "Constraints such as vehicle fleet size, battery capacity, and departure/arrival times are included.\n",
    "Several scenarios are simulated and compared in terms of their impact on the payback period of the solar panel investment."
   ]
  }
 ],
 "metadata": {
  "kernelspec": {
   "display_name": "TIL6022-25",
   "language": "python",
   "name": "python3"
  },
  "language_info": {
   "name": "python",
   "version": "3.13.5"
  },
  "orig_nbformat": 4
 },
 "nbformat": 4,
 "nbformat_minor": 2
}
