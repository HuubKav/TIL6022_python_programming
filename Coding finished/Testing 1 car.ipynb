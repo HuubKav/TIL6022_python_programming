{
 "cells": [
  {
   "cell_type": "markdown",
   "id": "4dfb858b",
   "metadata": {},
   "source": [
    "Het idee is om te berekenen hoe duur het is voor pietje om 1 jaar lang zijn auto te gebruiken.\n",
    "\n",
    "Assumptions\n",
    " - 100 km per day\n",
    " - 22.2 kwh per day\n",
    " - pietje charges his car when he gets home at 18:00 and leaves it in the charger until the morning. \n",
    " - 1 phase wallbox, 7,4 kW\n",
    " - 3 hr needed\n",
    " \n",
    "Effectively, pietje charges between 18:00 and 21:00\n",
    "\n",
    "how much does pietje spend per day and per year total?\n",
    "\n"
   ]
  },
  {
   "cell_type": "code",
   "execution_count": 4,
   "id": "46ab5923",
   "metadata": {},
   "outputs": [
    {
     "name": "stdout",
     "output_type": "stream",
     "text": [
      "Average cost per day (€): 2.526990617486339\n",
      "Total cost per year (€): 924.8785660000001\n"
     ]
    }
   ],
   "source": [
    "\n",
    "import pandas as pd\n",
    "\n",
    "# === Configuration ===\n",
    "FILE_PATH = \"jeroen_punt_nl_dynamische_stroomprijzen_jaar_2024.csv\"  # <-- change to your file name\n",
    "CHARGING_HOURS = [18, 19, 20]    # charging from 18:00 to 21:00\n",
    "POWER_KW = 7.4                   # 1-phase wallbox\n",
    "DAILY_ENERGY_KWH = 22.2          # total per day (7.4 kW * 3 hours)\n",
    "\n",
    "# === Load data ===\n",
    "# File uses ';' as delimiter and ',' as decimal separator\n",
    "df = pd.read_csv(FILE_PATH, sep=';', decimal=',')\n",
    "\n",
    "# Convert date/time strings\n",
    "df['datum_nl'] = pd.to_datetime(df['datum_nl'])\n",
    "\n",
    "# Extract hour of day\n",
    "df['hour'] = df['datum_nl'].dt.hour\n",
    "\n",
    "# === Filter for charging hours ===\n",
    "df_charge = df[df['hour'].isin(CHARGING_HOURS)].copy()\n",
    "\n",
    "# === Compute cost per record ===\n",
    "df_charge['cost_eur'] = df_charge['prijs_excl_belastingen'] * POWER_KW\n",
    "\n",
    "# === Daily totals ===\n",
    "daily_cost = df_charge.groupby(df_charge['datum_nl'].dt.date)['cost_eur'].sum()\n",
    "\n",
    "# === Year total ===\n",
    "year_total = daily_cost.sum()\n",
    "\n",
    "# === Results ===\n",
    "print(\"Average cost per day (€):\", daily_cost.mean())\n",
    "print(\"Total cost per year (€):\", year_total)\n"
   ]
  },
  {
   "cell_type": "code",
   "execution_count": null,
   "id": "24ff712f",
   "metadata": {},
   "outputs": [],
   "source": []
  }
 ],
 "metadata": {
  "kernelspec": {
   "display_name": "Python 3",
   "language": "python",
   "name": "python3"
  },
  "language_info": {
   "codemirror_mode": {
    "name": "ipython",
    "version": 3
   },
   "file_extension": ".py",
   "mimetype": "text/x-python",
   "name": "python",
   "nbconvert_exporter": "python",
   "pygments_lexer": "ipython3",
   "version": "3.10.7"
  }
 },
 "nbformat": 4,
 "nbformat_minor": 5
}
