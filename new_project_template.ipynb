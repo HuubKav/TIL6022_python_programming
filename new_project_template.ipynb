{
 "cells": [
  {
   "cell_type": "markdown",
   "metadata": {},
   "source": [
    "# Project Group - \n",
    "\n",
    "Members: Yme Tuik, Gijs Meijers, Bart Ligtenberg, Huub Kavelaars\n",
    "\n",
    "Student numbers: 5026369, 4957822, 5407710, 5085330"
   ]
  },
  {
   "cell_type": "markdown",
   "metadata": {},
   "source": [
    "# Research Objective\n",
    "\n",
    "*Requires data modeling and quantitative research in Transport, Infrastructure & Logistics*"
   ]
  },
  {
   "cell_type": "markdown",
   "metadata": {},
   "source": [
    "Small logistics firms increasingly consider electrifying their vehicles, but volatile hourly electricity prices make charging costs uncertain, and upfront EV investments are hard to justify without clear savings. This report focuses on when to charge, not just how much, by optimizing depot charging against dynamic prices, ensuring vehicles leave with the required State of Charge. As an optional extension, we assess whether adding rooftop solar meaningfully lowers grid purchases and shortens payback. The outcome is a practical, data-driven guideline for small companies to cut operating costs and make informed steps toward cleaner transport.\n",
    "\n",
    "**Main research question** \\\n",
    "What charging schedule minimizes the daily energy cost for a small depot-based EV fleet, under dynamic hourly electricity prices, while meeting per-vehicle departure state of charge (SoC) requirements and site/charger constraints?\n",
    "\n",
    "**Sub-question**\\\n",
    "What is the payback period for a rooftop PV investment, and how does it vary with PV size and electricity price scenarios?\n",
    "\n",
    "\n",
    "Scope for clarity: \n",
    "one depot; 3–6 vehicles; 1 hour time steps; base case = 1 day, with a short week-long robustness check. \n",
    "\n",
    "Key outputs: \n",
    " - Total cost [€]\n",
    " - Peak grid power [kW]\n",
    " - SoC-violation count [target 0]\n",
    " - PV payback [years]\n",
    " "
   ]
  },
  {
   "cell_type": "markdown",
   "metadata": {},
   "source": [
    "# Contribution Statement\n",
    "\n",
    "*Be specific. Some of the tasks can be coding (expect everyone to do this), background research, conceptualisation, visualisation, data analysis, data modelling*"
   ]
  },
  {
   "cell_type": "markdown",
   "metadata": {},
   "source": [
    "**Yme Tuik**: Background research on topic and writing of the proposal.\n",
    "\n",
    "**Gijs Meijers**: Background research on topic and writing of the proposal.\n",
    "\n",
    "**Bart Ligtenberg**: Background research on topic and writing of the proposal.\n",
    "\n",
    "**Huub Kavelaars**: Creating GitHub environment, Background research on topic and writing of the proposal"
   ]
  },
  {
   "cell_type": "markdown",
   "metadata": {},
   "source": [
    "# Data Used"
   ]
  },
  {
   "cell_type": "markdown",
   "metadata": {},
   "source": [
    "The dataset used in this study is jeroen_punt_nl_dynamische_stroomprijzen_jaar_2024.csv, obtained from jeroen.nl, a platform that provides datasets on average electricity prices over different timespans. The dataset contains the dynamic hourly electricity prices in the Netherlands for the year 2024.\n",
    "\n",
    "The dataset includes the following columns:\n",
    "\n",
    "datum_nl – the timestamp in local Dutch time , indicating the exact date and hour of the price.\n",
    "\n",
    "datum_utc – the corresponding timestamp in Coordinated Universal Time (UTC).\n",
    "\n",
    "prijs_excl_belastingen – the electricity price in euros per kilowatt-hour (€/kWh), excluding taxes and surcharges.\n",
    "\n",
    "In total, the dataset covers all 8,760 hours of the year 2024. This is a lot of data which may needs to be filtered out."
   ]
  },
  {
   "cell_type": "markdown",
   "metadata": {},
   "source": [
    "# Data Pipeline"
   ]
  },
  {
   "cell_type": "markdown",
   "metadata": {},
   "source": [
    "**Data Ingestion**\\\n",
    "The dataset is imported into Python using the pandas library.\n",
    "Development and analysis are carried out in Visual Studio Code within a virtual Python environment to ensure reproducibility.\n",
    "\n",
    "**Data Cleaning**\\\n",
    "Missing values and inconsistencies (e.g., missing timestamps, negative values) are identified and corrected.\n",
    "Units are checked and standardized (€/kWh for prices).\n",
    "\n",
    "**Data Transformation** \\\n",
    "Charging scenarios are defined for further analysis (e.g., charging during daytime, nighttime, or at the cheapest available time).\n",
    "\n",
    "**Data Storage** \\\n",
    "The dataset is stored as a CSV file to allow reproducibility and incremental analysis.\n",
    "Version control (Git) is used to track scripts and transformations.\n",
    "\n",
    "**Data Analysis & Optimization** \\\n",
    "Optimization models are implemented in Python to identify cost-efficient charging schedules, considering dynamic electricity prices.\n",
    "Constraints such as vehicle fleet size, battery capacity, and departure/arrival times are included.\n",
    "Several scenarios are simulated and compared in terms of their impact on the payback period of the solar panel investment."
   ]
  },
  {
   "cell_type": "markdown",
   "metadata": {},
   "source": []
  }
 ],
 "metadata": {
  "kernelspec": {
   "display_name": "ME44206-Quantitative_Methods",
   "language": "python",
   "name": "python3"
  },
  "language_info": {
   "codemirror_mode": {
    "name": "ipython",
    "version": 3
   },
   "file_extension": ".py",
   "mimetype": "text/x-python",
   "name": "python",
   "nbconvert_exporter": "python",
   "pygments_lexer": "ipython3",
   "version": "3.13.7"
  },
  "orig_nbformat": 4
 },
 "nbformat": 4,
 "nbformat_minor": 2
}
