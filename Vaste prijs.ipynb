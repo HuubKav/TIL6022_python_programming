{
 "cells": [
  {
   "cell_type": "code",
   "execution_count": 4,
   "id": "ec337e2e",
   "metadata": {},
   "outputs": [],
   "source": [
    "# === Set your fixed electricity price (€/kWh) ===\n",
    "FIXED_PRICE = 0.1094   # <-- fill in your chosen fixed price"
   ]
  },
  {
   "cell_type": "code",
   "execution_count": 5,
   "id": "3e8f6f51",
   "metadata": {},
   "outputs": [
    {
     "name": "stdout",
     "output_type": "stream",
     "text": [
      "Chosen fixed price: €0.109/kWh\n",
      "Average daily cost (dynamic): €2.53\n",
      "Average daily cost (fixed):   €2.43\n",
      "Total yearly cost (dynamic): €924.88\n",
      "Total yearly cost (fixed):   €888.90\n",
      "Yearly difference:           €35.98\n"
     ]
    }
   ],
   "source": [
    "import pandas as pd\n",
    "\n",
    "# === Configuration ===\n",
    "FILE_PATH = \"jeroen_punt_nl_dynamische_stroomprijzen_jaar_2024.csv\"  # your file\n",
    "CHARGING_HOURS = [18, 19, 20]    # charging from 18:00 to 21:00\n",
    "POWER_KW = 7.4                   # 1-phase wallbox\n",
    "DAILY_ENERGY_KWH = 22.2          # total per day (7.4 kW * 3 hours)\n",
    "\n",
    "# === Load data ===\n",
    "df = pd.read_csv(FILE_PATH, sep=';', decimal=',')\n",
    "df['datum_nl'] = pd.to_datetime(df['datum_nl'])\n",
    "df['hour'] = df['datum_nl'].dt.hour\n",
    "\n",
    "# === Filter for charging hours ===\n",
    "df_charge = df[df['hour'].isin(CHARGING_HOURS)].copy()\n",
    "\n",
    "# === Dynamic price calculation ===\n",
    "df_charge['cost_dynamic'] = df_charge['prijs_excl_belastingen'] * POWER_KW\n",
    "\n",
    "# === Fixed price calculation ===\n",
    "df_charge['cost_fixed'] = FIXED_PRICE * POWER_KW\n",
    "\n",
    "# === Daily totals ===\n",
    "daily_costs = (\n",
    "    df_charge\n",
    "    .groupby(df_charge['datum_nl'].dt.date)[['cost_dynamic', 'cost_fixed']]\n",
    "    .sum()\n",
    ")\n",
    "\n",
    "# === Year totals ===\n",
    "total_dynamic = daily_costs['cost_dynamic'].sum()\n",
    "total_fixed = daily_costs['cost_fixed'].sum()\n",
    "\n",
    "# === Results ===\n",
    "print(f\"Chosen fixed price: €{FIXED_PRICE:.3f}/kWh\")\n",
    "print(f\"Average daily cost (dynamic): €{daily_costs['cost_dynamic'].mean():.2f}\")\n",
    "print(f\"Average daily cost (fixed):   €{daily_costs['cost_fixed'].mean():.2f}\")\n",
    "print(f\"Total yearly cost (dynamic): €{total_dynamic:.2f}\")\n",
    "print(f\"Total yearly cost (fixed):   €{total_fixed:.2f}\")\n",
    "print(f\"Yearly difference:           €{total_dynamic - total_fixed:.2f}\")\n"
   ]
  }
 ],
 "metadata": {
  "kernelspec": {
   "display_name": "TIL6022",
   "language": "python",
   "name": "python3"
  },
  "language_info": {
   "codemirror_mode": {
    "name": "ipython",
    "version": 3
   },
   "file_extension": ".py",
   "mimetype": "text/x-python",
   "name": "python",
   "nbconvert_exporter": "python",
   "pygments_lexer": "ipython3",
   "version": "3.13.5"
  }
 },
 "nbformat": 4,
 "nbformat_minor": 5
}
