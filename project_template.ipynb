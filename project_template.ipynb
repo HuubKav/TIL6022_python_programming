{
 "cells": [
  {
   "cell_type": "markdown",
   "metadata": {},
   "source": [
    "# Project Group - \n",
    "\n",
    "Members: Yme Tuik, Gijs Meijers, Bart Ligtenberg, Huub Kavelaars\n",
    "\n",
    "Student numbers: 5026369, 4957822, 5407710, 5085330"
   ]
  },
  {
   "cell_type": "markdown",
   "metadata": {},
   "source": [
    "# Research Objective\n",
    "\n",
    "*Requires data modeling and quantitative research in Transport, Infrastructure & Logistics*"
   ]
  },
  {
   "cell_type": "markdown",
   "metadata": {},
   "source": [
    "The objective of this study is to investigate how a small company can optimize the charging of its electric vehicles based on dynamic hourly electricity prices. As a sub-question, the research will examine the payback period of investing in solar panels to further reduce charging costs."
   ]
  },
  {
   "cell_type": "markdown",
   "metadata": {},
   "source": [
    "# Contribution Statement\n",
    "\n",
    "*Be specific. Some of the tasks can be coding (expect everyone to do this), background research, conceptualisation, visualisation, data analysis, data modelling*"
   ]
  },
  {
   "cell_type": "markdown",
   "metadata": {},
   "source": [
    "**Yme Tuik**: \n",
    "\n",
    "**Gijs Meijers**: \n",
    "\n",
    "**Bart Ligtenberg**: \n",
    "\n",
    "**Huub Kavelaars**: Creating GitHub environment, "
   ]
  },
  {
   "cell_type": "markdown",
   "metadata": {},
   "source": [
    "# Data Used"
   ]
  },
  {
   "cell_type": "markdown",
   "metadata": {},
   "source": [
    "The dataset used in this study is jeroen_punt_nl_dynamische_stroomprijzen_jaar_2024.csv, obtained from jeroen.nl, a platform that provides datasets on average electricity prices over different timespans. The dataset contains the dynamic hourly electricity prices in the Netherlands for the year 2024.\n",
    "\n",
    "The dataset includes the following columns:\n",
    "\n",
    "datum_nl – the timestamp in local Dutch time , indicating the exact date and hour of the price.\n",
    "\n",
    "datum_utc – the corresponding timestamp in Coordinated Universal Time (UTC).\n",
    "\n",
    "prijs_excl_belastingen – the electricity price in euros per kilowatt-hour (€/kWh), excluding taxes and surcharges.\n",
    "\n",
    "In total, the dataset covers all 8,760 hours of the year 2024. This is a lot of data which may needs to be filtered out."
   ]
  },
  {
   "cell_type": "markdown",
   "metadata": {},
   "source": [
    "# Data Pipeline"
   ]
  },
  {
   "cell_type": "markdown",
   "metadata": {},
   "source": [
    "*Data Ingestion* \n",
    "\n",
    "The dataset is imported into Python using the pandas library.\n",
    "Development and analysis are carried out in Visual Studio Code within a virtual Python environment to ensure reproducibility.\n",
    "\n",
    "*Data Cleaning*\n",
    "\n",
    "Missing values and inconsistencies (e.g., missing timestamps, negative values) are identified and corrected.\n",
    "Units are checked and standardized (€/kWh for prices).\n",
    "\n",
    "*Data Transformation*\n",
    "\n",
    "Charging scenarios are defined for further analysis (e.g., charging during daytime, nighttime, or at the cheapest available time).\n",
    "\n",
    "*Data Storage*\n",
    "\n",
    "The dataset is stored as a CSV file to allow reproducibility and incremental analysis. Version control (Git) is used to track scripts and transformations.\n",
    "\n",
    "*Data Analysis & Optimization*\n",
    "\n",
    "Optimization models are implemented in Python to identify cost-efficient charging schedules, considering dynamic electricity prices.\n",
    "Constraints such as vehicle fleet size, battery capacity, and departure/arrival times are included.\n",
    "Several scenarios are simulated and compared in terms of their impact on the payback period of the solar panel investment."
   ]
  }
 ],
 "metadata": {
  "kernelspec": {

   "language": "python",
   "name": "python3"
  },
  "language_info": {
   "name": "python",

  },
  "orig_nbformat": 4
 },
 "nbformat": 4,
 "nbformat_minor": 2
}
